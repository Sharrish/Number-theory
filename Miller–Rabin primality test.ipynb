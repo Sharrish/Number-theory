{
 "cells": [
  {
   "cell_type": "code",
   "execution_count": 21,
   "metadata": {
    "ExecuteTime": {
     "end_time": "2020-04-01T20:27:39.013520Z",
     "start_time": "2020-04-01T20:27:38.980276Z"
    }
   },
   "outputs": [],
   "source": [
    "# Тест простоты Миллера—Рабина\n",
    "\n",
    "from random import randint\n",
    "from math import gcd\n",
    "\n",
    "def primeTest(m, k=20): # m - число, проверяемое на простоту, k - кол-во проверок\n",
    "    s = 0\n",
    "    t = m - 1\n",
    "    while t % 2 == 0:\n",
    "        t //= 2\n",
    "        s += 1\n",
    "    # имеем представление n-1 == 2^s * t, где t - нечетное\n",
    "    for i in range(k): # делаем k - проверок\n",
    "        a = randint(2, m-1) # случайное число 2<=a<=m-1\n",
    "        flag = False # является ли a - свидетелем простоты - пока False\n",
    "        a_t = pow(a, t, m) # a_t = (a^t) mod m\n",
    "        if (a_t == 1 or a_t == m-1):\n",
    "            flag = True\n",
    "            continue\n",
    "        else:\n",
    "            for r in range(1, s):\n",
    "                a_t = pow(a_t, 2, m)\n",
    "                if (a_t == m - 1):\n",
    "                    flag = True\n",
    "                    continue\n",
    "        if (not flag): # значит ни одно из условий ни разу не выполнилось => a - не свидетель простоты\n",
    "            return False\n",
    "    return True"
   ]
  },
  {
   "cell_type": "code",
   "execution_count": 71,
   "metadata": {
    "ExecuteTime": {
     "end_time": "2020-04-01T21:28:33.701108Z",
     "start_time": "2020-04-01T21:28:33.679718Z"
    }
   },
   "outputs": [],
   "source": [
    "# p-1 Алгоритм Полларда\n",
    "\n",
    "from random import randint\n",
    "from math import gcd, log\n",
    "\n",
    "def pollardP1(m):\n",
    "    B = 13\n",
    "    BASE = [2, 3, 5, 7, 11, 13]\n",
    "    a = randint(2, m-2)\n",
    "    d = gcd(a, m)\n",
    "    if d >= 2:\n",
    "        return d\n",
    "    for q in BASE:\n",
    "        l = int(log(m, 2) / log(q, 2))\n",
    "        a = pow(a, pow(q, l), m)\n",
    "    d = gcd(a-1, m)\n",
    "    if d == 1 or d == m:\n",
    "        return 1\n",
    "    else:\n",
    "        return d"
   ]
  }
 ],
 "metadata": {
  "kernelspec": {
   "display_name": "Python 3",
   "language": "python",
   "name": "python3"
  },
  "language_info": {
   "codemirror_mode": {
    "name": "ipython",
    "version": 3
   },
   "file_extension": ".py",
   "mimetype": "text/x-python",
   "name": "python",
   "nbconvert_exporter": "python",
   "pygments_lexer": "ipython3",
   "version": "3.6.9"
  },
  "varInspector": {
   "cols": {
    "lenName": 16,
    "lenType": 16,
    "lenVar": 40
   },
   "kernels_config": {
    "python": {
     "delete_cmd_postfix": "",
     "delete_cmd_prefix": "del ",
     "library": "var_list.py",
     "varRefreshCmd": "print(var_dic_list())"
    },
    "r": {
     "delete_cmd_postfix": ") ",
     "delete_cmd_prefix": "rm(",
     "library": "var_list.r",
     "varRefreshCmd": "cat(var_dic_list()) "
    }
   },
   "types_to_exclude": [
    "module",
    "function",
    "builtin_function_or_method",
    "instance",
    "_Feature"
   ],
   "window_display": false
  }
 },
 "nbformat": 4,
 "nbformat_minor": 2
}
